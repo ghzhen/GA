{
 "cells": [
  {
   "cell_type": "code",
   "execution_count": 23,
   "metadata": {},
   "outputs": [
    {
     "name": "stdout",
     "output_type": "stream",
     "text": [
      "﻿\n",
      "\n",
      "Didn't match the regex.\n",
      "|sHX{\n",
      "Didn't match the regex.\n",
      "Time of process:  6 : 12\n"
     ]
    }
   ],
   "source": [
    "import re\n",
    "import os           \n",
    "\n",
    "write_data_loc = 'Data/wowah/output/'      \n",
    "write_data_file = 'wowah_data2.csv'\n",
    "write_data_filename = write_data_loc + write_data_file\n",
    "the_dir = 'Data/wowah/WoWAH/'   \n",
    "\n",
    "match_string = '.*\\\"\\d+,\\s(.*),\\s*(\\d*),\\s*(\\d*),\\s*(\\d*),\\s*(\\d*),\\s*([A-Z][\\w\\s]+),\\s*([A-Z][\\w\\s]+),\\s*([\\w].*),[\\s\\w]*,.*\\\",.*$'\n",
    "\n",
    "# [1] = \"0, 03/30/06 23:59:49, 1,10772, , 1, Orc, Warrior, Orgrimmar, , 0\",\n",
    "#       \"0, 01/10/09 00:03:50, 1,55517, , 3, Orc, Warlock, Orgrimmar, WARLOCK, 0\", -- [1]\n",
    "#       \"0, 01/10/09 00:04:10, 5,4002,1, 75, Orc, Hunter, Zul'Gurub, HUNTER, 0\", -- [26]\n",
    "#       \"0, 01/10/09 00:04:10, 5,78122,342, 80, Orc, Hunter, The Storm Peaks, HUNTER, 0\", -- [32]\n",
    "#       \"0, 01/10/09 00:08:04, 51,64635,161, 80, Blood Elf, Paladin, The Obsidian Sanctum, PALADIN, 0\", -- [447]\n",
    "# dummy, query time, query sequence number, avatar ID, guild, level, race, class, zone, dummy, dummy\n",
    "\n",
    "\n",
    "def get_subdirs(the_folder):\n",
    "    this_list = []\n",
    "    this_list = os.listdir(the_folder)\n",
    "    for item in this_list:\n",
    "        if item.startswith('.'):\n",
    "            this_list.remove(item)\n",
    "    return this_list\n",
    "\n",
    "def parse_and_write(sample_idx, file, output_file):\n",
    "    for line in file:                           \n",
    "        data = re.match(match_string, line)\n",
    "        if data:\n",
    "            timestamp = data.group(1)\n",
    "            char = data.group(3)\n",
    "            if char[:3] in ['373', '547', '303', '274', '746']:\n",
    "                continue\n",
    "            level = data.group(5)\n",
    "            race = data.group(6)\n",
    "            charclass = data.group(7)\n",
    "            zone = data.group(8)\n",
    "\n",
    "            if data.group(4) is not(''):\n",
    "                guild = data.group(4)\n",
    "            else:\n",
    "                guild = '-1'   \n",
    "\n",
    "            new_line = ','.join([char, level, race, charclass, zone, guild, timestamp, str(sample_idx)+'\\n'])\n",
    "            output_file.write(new_line)\n",
    "        elif re.match('\\s*$', line):\n",
    "            continue\n",
    "        elif re.match('Persistent_Storage = {.*$', line):\n",
    "            continue\n",
    "        elif re.match('}.*$', line):\n",
    "            return\n",
    "        else:\n",
    "            print(line)\n",
    "            print(\"Didn't match the regex.\")\n",
    "\n",
    "\n",
    "def read_tree(output_file):\n",
    "    global the_dir\n",
    "    months_folders = get_subdirs(the_dir) \n",
    "    for folder in months_folders:                                   \n",
    "        folder = the_dir + folder                                   \n",
    "        day_folders = get_subdirs(folder)\n",
    "        for day_folder in day_folders:\n",
    "            day_folder = os.path.join(folder, day_folder)\n",
    "            file_list = sorted(os.listdir(day_folder))\n",
    "            num_sample = len(file_list)\n",
    "            for sample_idx, file in enumerate(file_list):\n",
    "                file = os.path.join(day_folder, file)\n",
    "                if num_sample != 144:\n",
    "                    sample_idx = -sample_idx-1\n",
    "                else:\n",
    "                    sample_idx += 1\n",
    "                try:\n",
    "                    with open(file, 'r') as f:\n",
    "                        lines = f.readlines()                         \n",
    "                        parse_and_write(sample_idx, lines, output_file)\n",
    "                except IOError:\n",
    "                    print('Error opening hoped for data-text file,', str(file), ', reason: ', IOError)\n",
    "\n",
    "\n",
    "output_file = open(write_data_filename, 'a')   \n",
    "fieldnames = ('char,level,race,charclass,zone,guild,timestamp,sample_idx\\n')\n",
    "output_file.write(fieldnames)\n",
    "\n",
    "read_tree(output_file)\n",
    "\n",
    "output_file.close()\n"
   ]
  },
  {
   "cell_type": "markdown",
   "metadata": {},
   "source": [
    "## experiment code"
   ]
  },
  {
   "cell_type": "markdown",
   "metadata": {},
   "source": [
    "#### regular expression"
   ]
  },
  {
   "cell_type": "code",
   "execution_count": 3,
   "metadata": {},
   "outputs": [
    {
     "name": "stdout",
     "output_type": "stream",
     "text": [
      "\t[1] = \"0, 01/01/06 00:09:38, 1,407, , 1, Orc, Hunter, Durotar, no, 0\",\n",
      "\n"
     ]
    }
   ],
   "source": [
    "with open('Data/wowah/WOWAH/2006_01_03/2006-01-01/00-13-43.txt', 'r') as f:\n",
    "    this_file = f.readlines()                          # Should read the whole file as a string?\n",
    "    line = this_file[2]\n",
    "    print(line)"
   ]
  },
  {
   "cell_type": "code",
   "execution_count": 9,
   "metadata": {},
   "outputs": [
    {
     "data": {
      "text/plain": [
       "'01/01/06 00:09:38'"
      ]
     },
     "execution_count": 9,
     "metadata": {},
     "output_type": "execute_result"
    }
   ],
   "source": [
    "match_string = '.*\\\"\\d+,\\s(.*),\\s*(\\d*),\\s*(\\d*),\\s*(\\d*),\\s*(\\d*),\\s*([A-Z].*),\\s*([A-Z].*),\\s*([A-Z].*),[\\s\\w]*,.*\\\",.*$'\n",
    "m = re.match(match_string, line)\n",
    "m.group(1)"
   ]
  },
  {
   "cell_type": "code",
   "execution_count": 12,
   "metadata": {},
   "outputs": [
    {
     "data": {
      "text/plain": [
       "'407,1,Orc,Hunter,Durotar,-1,01/01/06 00:09:38,\\n'"
      ]
     },
     "execution_count": 12,
     "metadata": {},
     "output_type": "execute_result"
    }
   ],
   "source": [
    "timestamp = m.group(1)\n",
    "char = m.group(3)\n",
    "level = m.group(5)\n",
    "race = m.group(6)\n",
    "charclass = m.group(7)\n",
    "zone = m.group(8)\n",
    "if m.group(4) is not(''):\n",
    "    guild = data.group(4)\n",
    "else:\n",
    "    guild = '-1'\n",
    "new_line = ','.join([char, level, race, charclass, zone, guild, timestamp, '\\n'])\n",
    "new_line"
   ]
  },
  {
   "cell_type": "code",
   "execution_count": null,
   "metadata": {
    "collapsed": true
   },
   "outputs": [],
   "source": [
    "new_line = char + ',' + level + ',' + race + ',' + charclass + ',' + zone +  ',' + guild + ',' + timestamp + ',' + '' +'\\n'\n",
    "new_line"
   ]
  },
  {
   "cell_type": "markdown",
   "metadata": {},
   "source": [
    "#### order list"
   ]
  },
  {
   "cell_type": "code",
   "execution_count": null,
   "metadata": {
    "collapsed": true
   },
   "outputs": [],
   "source": [
    "filelist = get_file_list('Data/wowah/WOWAH/2006_01_03/2006-01-01')"
   ]
  },
  {
   "cell_type": "code",
   "execution_count": null,
   "metadata": {
    "collapsed": true
   },
   "outputs": [],
   "source": [
    "from random import shuffle\n",
    "shuffle(filelist)\n",
    "len(filelist)"
   ]
  },
  {
   "cell_type": "code",
   "execution_count": null,
   "metadata": {
    "collapsed": true
   },
   "outputs": [],
   "source": [
    "filelist = sorted(filelist)\n",
    "filelist"
   ]
  },
  {
   "cell_type": "code",
   "execution_count": 22,
   "metadata": {},
   "outputs": [
    {
     "data": {
      "text/html": [
       "<div>\n",
       "<style>\n",
       "    .dataframe thead tr:only-child th {\n",
       "        text-align: right;\n",
       "    }\n",
       "\n",
       "    .dataframe thead th {\n",
       "        text-align: left;\n",
       "    }\n",
       "\n",
       "    .dataframe tbody tr th {\n",
       "        vertical-align: top;\n",
       "    }\n",
       "</style>\n",
       "<table border=\"1\" class=\"dataframe\">\n",
       "  <thead>\n",
       "    <tr style=\"text-align: right;\">\n",
       "      <th></th>\n",
       "      <th>char</th>\n",
       "      <th>level</th>\n",
       "      <th>race</th>\n",
       "      <th>charclass</th>\n",
       "      <th>zone</th>\n",
       "      <th>guild</th>\n",
       "      <th>timestamp</th>\n",
       "      <th>sample_idx</th>\n",
       "    </tr>\n",
       "  </thead>\n",
       "  <tbody>\n",
       "    <tr>\n",
       "      <th>0</th>\n",
       "      <td>char</td>\n",
       "      <td>level</td>\n",
       "      <td>race</td>\n",
       "      <td>charclass</td>\n",
       "      <td>zone</td>\n",
       "      <td>guild</td>\n",
       "      <td>timestamp</td>\n",
       "      <td>1</td>\n",
       "    </tr>\n",
       "    <tr>\n",
       "      <th>1</th>\n",
       "      <td>char</td>\n",
       "      <td>level</td>\n",
       "      <td>race</td>\n",
       "      <td>charclass</td>\n",
       "      <td>zone</td>\n",
       "      <td>guild</td>\n",
       "      <td>timestamp</td>\n",
       "      <td>2</td>\n",
       "    </tr>\n",
       "  </tbody>\n",
       "</table>\n",
       "</div>"
      ],
      "text/plain": [
       "   char  level  race  charclass  zone  guild  timestamp  sample_idx\n",
       "0  char  level  race  charclass  zone  guild  timestamp           1\n",
       "1  char  level  race  charclass  zone  guild  timestamp           2"
      ]
     },
     "execution_count": 22,
     "metadata": {},
     "output_type": "execute_result"
    }
   ],
   "source": [
    "import pandas as pd\n",
    "\n",
    "output_file = open('test.csv', 'a')    # 'a' is very important, it appends the new data to the big file. \n",
    "fieldnames = ('char,level,race,charclass,zone,guild,timestamp,sample_idx\\n')\n",
    "output_file.write(fieldnames)\n",
    "\n",
    "new_line = ','.join(['char', 'level', 'race', 'charclass', 'zone', 'guild', 'timestamp', '1\\n'])\n",
    "output_file.write(new_line)\n",
    "\n",
    "new_line = ','.join(['char', 'level', 'race', 'charclass', 'zone', 'guild', 'timestamp', '2\\n'])\n",
    "output_file.write(new_line)\n",
    "\n",
    "output_file.close()\n",
    "\n",
    "df = pd.read_csv('test.csv')\n",
    "df.head()"
   ]
  }
 ],
 "metadata": {
  "kernelspec": {
   "display_name": "Python 3",
   "language": "python",
   "name": "python3"
  },
  "language_info": {
   "codemirror_mode": {
    "name": "ipython",
    "version": 3
   },
   "file_extension": ".py",
   "mimetype": "text/x-python",
   "name": "python",
   "nbconvert_exporter": "python",
   "pygments_lexer": "ipython3",
   "version": "3.6.1"
  }
 },
 "nbformat": 4,
 "nbformat_minor": 2
}
